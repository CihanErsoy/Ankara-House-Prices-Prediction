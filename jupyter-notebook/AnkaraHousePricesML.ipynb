{
 "cells": [
  {
   "cell_type": "code",
   "execution_count": 1,
   "metadata": {},
   "outputs": [],
   "source": [
    "import pandas as pd\n",
    "import numpy as np\n",
    "from sklearn.model_selection import train_test_split, GridSearchCV\n",
    "from sklearn.metrics import mean_squared_error, accuracy_score\n",
    "from sklearn.preprocessing import LabelEncoder\n",
    "from sklearn.ensemble import RandomForestRegressor\n",
    "import xgboost as xgb\n",
    "import seaborn as sns \n",
    "import matplotlib.pyplot as plt \n",
    "%matplotlib inline"
   ]
  },
  {
   "cell_type": "markdown",
   "metadata": {},
   "source": [
    "Necessary libraries are downloaded. I used both Random Forest and XGBoost to see which produces a better performance on this dataset."
   ]
  },
  {
   "cell_type": "code",
   "execution_count": 2,
   "metadata": {},
   "outputs": [],
   "source": [
    "df = pd.read_csv('AnkaraHousePrices.csv')"
   ]
  },
  {
   "cell_type": "markdown",
   "metadata": {},
   "source": [
    "Dataset is uploaded. This is the first time that I have built an ML model on a dataset which I scraped :)"
   ]
  },
  {
   "cell_type": "code",
   "execution_count": 3,
   "metadata": {},
   "outputs": [
    {
     "data": {
      "text/html": [
       "<div>\n",
       "<style scoped>\n",
       "    .dataframe tbody tr th:only-of-type {\n",
       "        vertical-align: middle;\n",
       "    }\n",
       "\n",
       "    .dataframe tbody tr th {\n",
       "        vertical-align: top;\n",
       "    }\n",
       "\n",
       "    .dataframe thead th {\n",
       "        text-align: right;\n",
       "    }\n",
       "</style>\n",
       "<table border=\"1\" class=\"dataframe\">\n",
       "  <thead>\n",
       "    <tr style=\"text-align: right;\">\n",
       "      <th></th>\n",
       "      <th>Age</th>\n",
       "      <th>Area</th>\n",
       "      <th>CreditAvlb</th>\n",
       "      <th>Firsthand</th>\n",
       "      <th>FloorCount</th>\n",
       "      <th>FloorNumber</th>\n",
       "      <th>Frontage</th>\n",
       "      <th>Fuel</th>\n",
       "      <th>Furniture</th>\n",
       "      <th>Heating</th>\n",
       "      <th>MaintenanceFee</th>\n",
       "      <th>Price</th>\n",
       "      <th>Room</th>\n",
       "      <th>Town</th>\n",
       "      <th>Typeofit</th>\n",
       "    </tr>\n",
       "  </thead>\n",
       "  <tbody>\n",
       "    <tr>\n",
       "      <td>0</td>\n",
       "      <td>0</td>\n",
       "      <td>240</td>\n",
       "      <td>Uygun</td>\n",
       "      <td>Sıfır</td>\n",
       "      <td>15.0</td>\n",
       "      <td>15</td>\n",
       "      <td>Güney,Doğu,Batı</td>\n",
       "      <td>Doğalgaz</td>\n",
       "      <td>Eşyalı Değil</td>\n",
       "      <td>Merkezi (Pay Ölçer)</td>\n",
       "      <td>250</td>\n",
       "      <td>1200000</td>\n",
       "      <td>5</td>\n",
       "      <td>Keçiören</td>\n",
       "      <td>Daire</td>\n",
       "    </tr>\n",
       "    <tr>\n",
       "      <td>1</td>\n",
       "      <td>2</td>\n",
       "      <td>190</td>\n",
       "      <td>Uygun</td>\n",
       "      <td>İkinci El</td>\n",
       "      <td>11.0</td>\n",
       "      <td>9</td>\n",
       "      <td>Kuzey,Güney,Doğu,Batı</td>\n",
       "      <td>Doğalgaz</td>\n",
       "      <td>Eşyalı Değil</td>\n",
       "      <td>Merkezi (Pay Ölçer)</td>\n",
       "      <td>NaN</td>\n",
       "      <td>799000</td>\n",
       "      <td>5</td>\n",
       "      <td>Etimesgut</td>\n",
       "      <td>Daire</td>\n",
       "    </tr>\n",
       "    <tr>\n",
       "      <td>2</td>\n",
       "      <td>3</td>\n",
       "      <td>300</td>\n",
       "      <td>Uygun</td>\n",
       "      <td>İkinci El</td>\n",
       "      <td>3.0</td>\n",
       "      <td>3</td>\n",
       "      <td>Güney,Batı</td>\n",
       "      <td>Doğalgaz</td>\n",
       "      <td>Eşyalı Değil</td>\n",
       "      <td>Kombi</td>\n",
       "      <td>60</td>\n",
       "      <td>448000</td>\n",
       "      <td>5</td>\n",
       "      <td>Etimesgut</td>\n",
       "      <td>Daire</td>\n",
       "    </tr>\n",
       "    <tr>\n",
       "      <td>3</td>\n",
       "      <td>0</td>\n",
       "      <td>412</td>\n",
       "      <td>Uygun</td>\n",
       "      <td>NaN</td>\n",
       "      <td>14.0</td>\n",
       "      <td>13</td>\n",
       "      <td>NaN</td>\n",
       "      <td>NaN</td>\n",
       "      <td>Eşyalı Değil</td>\n",
       "      <td>Kombi</td>\n",
       "      <td>NaN</td>\n",
       "      <td>975000</td>\n",
       "      <td>6</td>\n",
       "      <td>Pursaklar</td>\n",
       "      <td>Daire</td>\n",
       "    </tr>\n",
       "    <tr>\n",
       "      <td>4</td>\n",
       "      <td>0</td>\n",
       "      <td>206</td>\n",
       "      <td>Uygun</td>\n",
       "      <td>NaN</td>\n",
       "      <td>14.0</td>\n",
       "      <td>10</td>\n",
       "      <td>NaN</td>\n",
       "      <td>NaN</td>\n",
       "      <td>Eşyalı Değil</td>\n",
       "      <td>Kombi</td>\n",
       "      <td>NaN</td>\n",
       "      <td>590000</td>\n",
       "      <td>5</td>\n",
       "      <td>Pursaklar</td>\n",
       "      <td>Daire</td>\n",
       "    </tr>\n",
       "  </tbody>\n",
       "</table>\n",
       "</div>"
      ],
      "text/plain": [
       "   Age Area CreditAvlb  Firsthand  FloorCount FloorNumber  \\\n",
       "0    0  240      Uygun      Sıfır        15.0          15   \n",
       "1    2  190      Uygun  İkinci El        11.0           9   \n",
       "2    3  300      Uygun  İkinci El         3.0           3   \n",
       "3    0  412      Uygun        NaN        14.0          13   \n",
       "4    0  206      Uygun        NaN        14.0          10   \n",
       "\n",
       "                Frontage      Fuel     Furniture              Heating  \\\n",
       "0        Güney,Doğu,Batı  Doğalgaz  Eşyalı Değil  Merkezi (Pay Ölçer)   \n",
       "1  Kuzey,Güney,Doğu,Batı  Doğalgaz  Eşyalı Değil  Merkezi (Pay Ölçer)   \n",
       "2             Güney,Batı  Doğalgaz  Eşyalı Değil                Kombi   \n",
       "3                    NaN       NaN  Eşyalı Değil                Kombi   \n",
       "4                    NaN       NaN  Eşyalı Değil                Kombi   \n",
       "\n",
       "  MaintenanceFee    Price  Room       Town Typeofit  \n",
       "0            250  1200000     5   Keçiören    Daire  \n",
       "1            NaN   799000     5  Etimesgut    Daire  \n",
       "2             60   448000     5  Etimesgut    Daire  \n",
       "3            NaN   975000     6  Pursaklar    Daire  \n",
       "4            NaN   590000     5  Pursaklar    Daire  "
      ]
     },
     "execution_count": 3,
     "metadata": {},
     "output_type": "execute_result"
    }
   ],
   "source": [
    "df.head()"
   ]
  },
  {
   "cell_type": "markdown",
   "metadata": {},
   "source": [
    "The first 5 rows are brought for EDA. We see that most features are not numeric. So I will need to clean and tidy them since scikit learn library can handle only numeric data types."
   ]
  },
  {
   "cell_type": "code",
   "execution_count": 4,
   "metadata": {},
   "outputs": [
    {
     "name": "stdout",
     "output_type": "stream",
     "text": [
      "<class 'pandas.core.frame.DataFrame'>\n",
      "RangeIndex: 22957 entries, 0 to 22956\n",
      "Data columns (total 15 columns):\n",
      "Age               22957 non-null int64\n",
      "Area              22957 non-null object\n",
      "CreditAvlb        22957 non-null object\n",
      "Firsthand         20730 non-null object\n",
      "FloorCount        22069 non-null float64\n",
      "FloorNumber       22408 non-null object\n",
      "Frontage          19494 non-null object\n",
      "Fuel              21284 non-null object\n",
      "Furniture         22957 non-null object\n",
      "Heating           22957 non-null object\n",
      "MaintenanceFee    14659 non-null object\n",
      "Price             22957 non-null int64\n",
      "Room              22957 non-null int64\n",
      "Town              22957 non-null object\n",
      "Typeofit          22957 non-null object\n",
      "dtypes: float64(1), int64(3), object(11)\n",
      "memory usage: 2.6+ MB\n"
     ]
    }
   ],
   "source": [
    "df.info()"
   ]
  },
  {
   "cell_type": "markdown",
   "metadata": {},
   "source": [
    "Some further exploratory data analysis. It can be seen that there are some null values. Most of the features are object-type some of them will be int or float type automatically after we get rid of null values. So let's check how many null values there are in each feature."
   ]
  },
  {
   "cell_type": "code",
   "execution_count": 5,
   "metadata": {},
   "outputs": [
    {
     "data": {
      "text/plain": [
       "Age                  0\n",
       "Area                 0\n",
       "CreditAvlb           0\n",
       "Firsthand         2227\n",
       "FloorCount         888\n",
       "FloorNumber        549\n",
       "Frontage          3463\n",
       "Fuel              1673\n",
       "Furniture            0\n",
       "Heating              0\n",
       "MaintenanceFee    8298\n",
       "Price                0\n",
       "Room                 0\n",
       "Town                 0\n",
       "Typeofit             0\n",
       "dtype: int64"
      ]
     },
     "execution_count": 5,
     "metadata": {},
     "output_type": "execute_result"
    }
   ],
   "source": [
    "df.isnull().sum()"
   ]
  },
  {
   "cell_type": "markdown",
   "metadata": {},
   "source": [
    "There are quite a lot of null values. Dropping all of them doesn't seem like an effective solution to me. So I will handle each on its own way by using some domain knowledge regarding houses in Ankara. "
   ]
  },
  {
   "cell_type": "code",
   "execution_count": 6,
   "metadata": {
    "scrolled": false
   },
   "outputs": [
    {
     "data": {
      "text/plain": [
       "['1,140',\n",
       " '3,000',\n",
       " '1,160',\n",
       " '1,801',\n",
       " '1,000',\n",
       " '1,120',\n",
       " '1,000',\n",
       " '2,320',\n",
       " '1,000',\n",
       " '1,250',\n",
       " '11,500']"
      ]
     },
     "execution_count": 6,
     "metadata": {},
     "output_type": "execute_result"
    }
   ],
   "source": [
    "[row for row in df['Area'] if not row.isnumeric()]"
   ]
  },
  {
   "cell_type": "markdown",
   "metadata": {},
   "source": [
    "The first feature is \"Age\". It is already integer-type and it doesn't have any null values. So I skip it for now.\n",
    "\n",
    "I start cleaning from \"Area\" feature. I used an if statement in a list comprehension to see what makes the feature object-type. I will convert these inputs to integer after getting rid of comma. "
   ]
  },
  {
   "cell_type": "code",
   "execution_count": 7,
   "metadata": {},
   "outputs": [],
   "source": [
    "df['Area'] = df['Area'].apply(lambda x: x.replace(',', '')).astype(int)"
   ]
  },
  {
   "cell_type": "markdown",
   "metadata": {},
   "source": [
    "A simply function to get rid of comma sign. "
   ]
  },
  {
   "cell_type": "code",
   "execution_count": 8,
   "metadata": {},
   "outputs": [
    {
     "data": {
      "text/plain": [
       "dtype('int64')"
      ]
     },
     "execution_count": 8,
     "metadata": {},
     "output_type": "execute_result"
    }
   ],
   "source": [
    "df['Area'].dtype"
   ]
  },
  {
   "cell_type": "markdown",
   "metadata": {},
   "source": [
    "Area feature is now integer type."
   ]
  },
  {
   "cell_type": "code",
   "execution_count": 9,
   "metadata": {},
   "outputs": [
    {
     "data": {
      "text/plain": [
       "Uygun          22526\n",
       "Uygun değil      228\n",
       "Bilinmiyor       203\n",
       "Name: CreditAvlb, dtype: int64"
      ]
     },
     "execution_count": 9,
     "metadata": {},
     "output_type": "execute_result"
    }
   ],
   "source": [
    "df['CreditAvlb'].value_counts()"
   ]
  },
  {
   "cell_type": "markdown",
   "metadata": {},
   "source": [
    "Next feature is CreditAvlb. This feature shows us if house is available to use mortgage credit from a bank. Vast majority of them are available as we see. We will convert these categorical inputs to numeric values because scikit learn can handly only numeric values."
   ]
  },
  {
   "cell_type": "code",
   "execution_count": 10,
   "metadata": {},
   "outputs": [],
   "source": [
    "df['CreditAvlb'].replace(('Uygun', 'Bilinmiyor', 'Uygun değil'), (2,1,0), inplace=True)"
   ]
  },
  {
   "cell_type": "markdown",
   "metadata": {},
   "source": [
    "I used in this case replace method to convert them to numeric values."
   ]
  },
  {
   "cell_type": "code",
   "execution_count": 11,
   "metadata": {},
   "outputs": [
    {
     "data": {
      "text/plain": [
       "dtype('int64')"
      ]
     },
     "execution_count": 11,
     "metadata": {},
     "output_type": "execute_result"
    }
   ],
   "source": [
    "df['CreditAvlb'].dtype"
   ]
  },
  {
   "cell_type": "markdown",
   "metadata": {},
   "source": [
    "CreditAvlb feature is now integer type."
   ]
  },
  {
   "cell_type": "code",
   "execution_count": 12,
   "metadata": {},
   "outputs": [
    {
     "data": {
      "text/plain": [
       "İkinci El           14642\n",
       "Sıfır                6019\n",
       "Yapım Aşamasında       69\n",
       "Name: Firsthand, dtype: int64"
      ]
     },
     "execution_count": 12,
     "metadata": {},
     "output_type": "execute_result"
    }
   ],
   "source": [
    "df['Firsthand'].value_counts()"
   ]
  },
  {
   "cell_type": "markdown",
   "metadata": {},
   "source": [
    "I used value_counts() method again to check what inputs this feature have. There are 3 different inputs for this feature as well. "
   ]
  },
  {
   "cell_type": "code",
   "execution_count": 13,
   "metadata": {},
   "outputs": [],
   "source": [
    "df['Firsthand'].replace(('Sıfır', 'İkinci El', 'Yapım Aşamasında'), (2,1,0), inplace=True)"
   ]
  },
  {
   "cell_type": "markdown",
   "metadata": {},
   "source": [
    "I converted them to numeric values, too."
   ]
  },
  {
   "cell_type": "code",
   "execution_count": 14,
   "metadata": {},
   "outputs": [
    {
     "data": {
      "text/plain": [
       "dtype('float64')"
      ]
     },
     "execution_count": 14,
     "metadata": {},
     "output_type": "execute_result"
    }
   ],
   "source": [
    "df['Firsthand'].dtype"
   ]
  },
  {
   "cell_type": "markdown",
   "metadata": {},
   "source": [
    "datatype is still object because it has some null values. We need to take care of them to be able to convert the feature to integer type. "
   ]
  },
  {
   "cell_type": "code",
   "execution_count": 15,
   "metadata": {},
   "outputs": [
    {
     "data": {
      "text/plain": [
       "2227"
      ]
     },
     "execution_count": 15,
     "metadata": {},
     "output_type": "execute_result"
    }
   ],
   "source": [
    "df['Firsthand'].isnull().sum()"
   ]
  },
  {
   "cell_type": "code",
   "execution_count": 16,
   "metadata": {},
   "outputs": [
    {
     "data": {
      "text/plain": [
       "0    1.0\n",
       "dtype: float64"
      ]
     },
     "execution_count": 16,
     "metadata": {},
     "output_type": "execute_result"
    }
   ],
   "source": [
    "df['Firsthand'].mode()"
   ]
  },
  {
   "cell_type": "markdown",
   "metadata": {},
   "source": [
    "We will replace the null values with the mode in this particular case.  "
   ]
  },
  {
   "cell_type": "code",
   "execution_count": 17,
   "metadata": {},
   "outputs": [],
   "source": [
    "df['Firsthand'].fillna(1.0, inplace = True)"
   ]
  },
  {
   "cell_type": "markdown",
   "metadata": {},
   "source": [
    "Replacement is implemented. "
   ]
  },
  {
   "cell_type": "code",
   "execution_count": 18,
   "metadata": {},
   "outputs": [],
   "source": [
    "df['Firsthand'] = df['Firsthand'].astype(int)"
   ]
  },
  {
   "cell_type": "markdown",
   "metadata": {},
   "source": [
    "astype() method forces the feature to convert its type to integer. "
   ]
  },
  {
   "cell_type": "code",
   "execution_count": 19,
   "metadata": {},
   "outputs": [
    {
     "data": {
      "text/plain": [
       "dtype('int64')"
      ]
     },
     "execution_count": 19,
     "metadata": {},
     "output_type": "execute_result"
    }
   ],
   "source": [
    "df['Firsthand'].dtype"
   ]
  },
  {
   "cell_type": "code",
   "execution_count": 20,
   "metadata": {},
   "outputs": [
    {
     "data": {
      "text/plain": [
       "Daire    22957\n",
       "Name: Typeofit, dtype: int64"
      ]
     },
     "execution_count": 20,
     "metadata": {},
     "output_type": "execute_result"
    }
   ],
   "source": [
    "df.Typeofit.value_counts()"
   ]
  },
  {
   "cell_type": "code",
   "execution_count": 21,
   "metadata": {},
   "outputs": [],
   "source": [
    "df.drop('Typeofit', axis = 1, inplace=True)"
   ]
  },
  {
   "cell_type": "markdown",
   "metadata": {},
   "source": [
    "Typeofit column has only one different value so we can drop it. "
   ]
  },
  {
   "cell_type": "code",
   "execution_count": 22,
   "metadata": {},
   "outputs": [],
   "source": [
    "df['MaintenanceFee'] = df['MaintenanceFee'].str.replace(',', '')\n",
    "df['MaintenanceFee'] = df['MaintenanceFee'].fillna(0)\n",
    "df['MaintenanceFee'] = df['MaintenanceFee'].astype(int)"
   ]
  },
  {
   "cell_type": "markdown",
   "metadata": {},
   "source": [
    "MaintenanceFee feature is cleaned and converted to integer type. "
   ]
  },
  {
   "cell_type": "code",
   "execution_count": 23,
   "metadata": {},
   "outputs": [
    {
     "data": {
      "text/plain": [
       "dtype('int64')"
      ]
     },
     "execution_count": 23,
     "metadata": {},
     "output_type": "execute_result"
    }
   ],
   "source": [
    "df['MaintenanceFee'].dtype"
   ]
  },
  {
   "cell_type": "code",
   "execution_count": 24,
   "metadata": {},
   "outputs": [],
   "source": [
    "Le_Heating=LabelEncoder()\n",
    "df['Heating_num'] = Le_Heating.fit_transform(df['Heating'])\n",
    "df.drop(['Heating'], axis = 1, inplace=True)"
   ]
  },
  {
   "cell_type": "markdown",
   "metadata": {},
   "source": [
    "I used label encoding to convert the type of the feature here because I implemented tree-based models in this particular case. Label encoding, one-hot encoding or replace method don't make much difference for tree-based models. One-hot encoding could lead to curse of dimensionality if you don't pay atteniton, so I avoided it just in case."
   ]
  },
  {
   "cell_type": "code",
   "execution_count": 25,
   "metadata": {},
   "outputs": [
    {
     "data": {
      "text/plain": [
       "dtype('int64')"
      ]
     },
     "execution_count": 25,
     "metadata": {},
     "output_type": "execute_result"
    }
   ],
   "source": [
    "df['Heating_num'].dtype"
   ]
  },
  {
   "cell_type": "markdown",
   "metadata": {},
   "source": [
    "The name of the new numeric type column is Heating_num."
   ]
  },
  {
   "cell_type": "code",
   "execution_count": 26,
   "metadata": {},
   "outputs": [
    {
     "data": {
      "text/plain": [
       "Eşyalı Değil    22437\n",
       "Eşyalı            520\n",
       "Name: Furniture, dtype: int64"
      ]
     },
     "execution_count": 26,
     "metadata": {},
     "output_type": "execute_result"
    }
   ],
   "source": [
    "df['Furniture'].value_counts()"
   ]
  },
  {
   "cell_type": "code",
   "execution_count": 27,
   "metadata": {},
   "outputs": [],
   "source": [
    "df['Furniture'].replace(('Eşyalı', 'Eşyalı Değil'), (1, 0), inplace=True)"
   ]
  },
  {
   "cell_type": "markdown",
   "metadata": {},
   "source": [
    "I converted the type of 'Furniture' feature."
   ]
  },
  {
   "cell_type": "code",
   "execution_count": 28,
   "metadata": {},
   "outputs": [
    {
     "data": {
      "text/plain": [
       "dtype('int64')"
      ]
     },
     "execution_count": 28,
     "metadata": {},
     "output_type": "execute_result"
    }
   ],
   "source": [
    "df['Furniture'].dtype"
   ]
  },
  {
   "cell_type": "code",
   "execution_count": 29,
   "metadata": {},
   "outputs": [
    {
     "data": {
      "text/plain": [
       "Doğalgaz      21171\n",
       "Elektrik         64\n",
       "Kömür-Odun       38\n",
       "Akaryakıt        11\n",
       "Name: Fuel, dtype: int64"
      ]
     },
     "execution_count": 29,
     "metadata": {},
     "output_type": "execute_result"
    }
   ],
   "source": [
    "df['Fuel'].value_counts()"
   ]
  },
  {
   "cell_type": "code",
   "execution_count": 30,
   "metadata": {},
   "outputs": [],
   "source": [
    "df['Fuel'].replace(('Doğalgaz', 'Elektrik', 'Akaryakıt', 'Kömür-Odun', ), (3,2,1,0), inplace=True)\n",
    "df['Fuel'].fillna(3, inplace=True)\n",
    "df['Fuel'] = df['Fuel'].astype(int)"
   ]
  },
  {
   "cell_type": "markdown",
   "metadata": {},
   "source": [
    "Further cleansing."
   ]
  },
  {
   "cell_type": "code",
   "execution_count": 31,
   "metadata": {},
   "outputs": [
    {
     "data": {
      "text/plain": [
       "dtype('int64')"
      ]
     },
     "execution_count": 31,
     "metadata": {},
     "output_type": "execute_result"
    }
   ],
   "source": [
    "df['Fuel'].dtype"
   ]
  },
  {
   "cell_type": "code",
   "execution_count": 32,
   "metadata": {},
   "outputs": [],
   "source": [
    "df.dropna(subset = ['FloorCount'], inplace=True)"
   ]
  },
  {
   "cell_type": "markdown",
   "metadata": {},
   "source": [
    "I prefer dropping the rows which have null values in this case. Because the number of null values are not as many as null values in other columns. Also this feature has greater importance in my opinion(well, I could have measured to check if it really has greater importance than others but i didn't) and to filling null values here with mode or median could mislead the whole model accuracy. "
   ]
  },
  {
   "cell_type": "code",
   "execution_count": 33,
   "metadata": {},
   "outputs": [],
   "source": [
    " df['FloorCount'] = df['FloorCount'].astype(int)"
   ]
  },
  {
   "cell_type": "code",
   "execution_count": 34,
   "metadata": {},
   "outputs": [
    {
     "data": {
      "text/plain": [
       "dtype('int64')"
      ]
     },
     "execution_count": 34,
     "metadata": {},
     "output_type": "execute_result"
    }
   ],
   "source": [
    "df['FloorCount'].dtype"
   ]
  },
  {
   "cell_type": "markdown",
   "metadata": {},
   "source": [
    "We are done with FloorCount to clean."
   ]
  },
  {
   "cell_type": "code",
   "execution_count": 35,
   "metadata": {
    "scrolled": true
   },
   "outputs": [
    {
     "data": {
      "text/html": [
       "<div>\n",
       "<style scoped>\n",
       "    .dataframe tbody tr th:only-of-type {\n",
       "        vertical-align: middle;\n",
       "    }\n",
       "\n",
       "    .dataframe tbody tr th {\n",
       "        vertical-align: top;\n",
       "    }\n",
       "\n",
       "    .dataframe thead th {\n",
       "        text-align: right;\n",
       "    }\n",
       "</style>\n",
       "<table border=\"1\" class=\"dataframe\">\n",
       "  <thead>\n",
       "    <tr style=\"text-align: right;\">\n",
       "      <th></th>\n",
       "      <th>count</th>\n",
       "      <th>min</th>\n",
       "      <th>max</th>\n",
       "      <th>mean</th>\n",
       "    </tr>\n",
       "    <tr>\n",
       "      <th>Town</th>\n",
       "      <th></th>\n",
       "      <th></th>\n",
       "      <th></th>\n",
       "      <th></th>\n",
       "    </tr>\n",
       "  </thead>\n",
       "  <tbody>\n",
       "    <tr>\n",
       "      <td>Haymana</td>\n",
       "      <td>1</td>\n",
       "      <td>101000</td>\n",
       "      <td>101000</td>\n",
       "      <td>1.010000e+05</td>\n",
       "    </tr>\n",
       "    <tr>\n",
       "      <td>Nallıhan</td>\n",
       "      <td>1</td>\n",
       "      <td>120000</td>\n",
       "      <td>120000</td>\n",
       "      <td>1.200000e+05</td>\n",
       "    </tr>\n",
       "    <tr>\n",
       "      <td>Akyurt</td>\n",
       "      <td>27</td>\n",
       "      <td>85000</td>\n",
       "      <td>499000</td>\n",
       "      <td>1.915370e+05</td>\n",
       "    </tr>\n",
       "    <tr>\n",
       "      <td>Polatlı</td>\n",
       "      <td>204</td>\n",
       "      <td>65000</td>\n",
       "      <td>500000</td>\n",
       "      <td>2.101471e+05</td>\n",
       "    </tr>\n",
       "    <tr>\n",
       "      <td>Elmadağ</td>\n",
       "      <td>10</td>\n",
       "      <td>125000</td>\n",
       "      <td>430000</td>\n",
       "      <td>2.181000e+05</td>\n",
       "    </tr>\n",
       "    <tr>\n",
       "      <td>Çubuk</td>\n",
       "      <td>77</td>\n",
       "      <td>95000</td>\n",
       "      <td>535000</td>\n",
       "      <td>2.257532e+05</td>\n",
       "    </tr>\n",
       "    <tr>\n",
       "      <td>Sincan</td>\n",
       "      <td>672</td>\n",
       "      <td>175</td>\n",
       "      <td>600000</td>\n",
       "      <td>2.313797e+05</td>\n",
       "    </tr>\n",
       "    <tr>\n",
       "      <td>Mamak</td>\n",
       "      <td>3567</td>\n",
       "      <td>105</td>\n",
       "      <td>870000</td>\n",
       "      <td>2.412661e+05</td>\n",
       "    </tr>\n",
       "    <tr>\n",
       "      <td>Kızılcahamam</td>\n",
       "      <td>5</td>\n",
       "      <td>37000</td>\n",
       "      <td>475000</td>\n",
       "      <td>2.450000e+05</td>\n",
       "    </tr>\n",
       "    <tr>\n",
       "      <td>Bala</td>\n",
       "      <td>1</td>\n",
       "      <td>265000</td>\n",
       "      <td>265000</td>\n",
       "      <td>2.650000e+05</td>\n",
       "    </tr>\n",
       "    <tr>\n",
       "      <td>Kahramankazan</td>\n",
       "      <td>27</td>\n",
       "      <td>108000</td>\n",
       "      <td>383000</td>\n",
       "      <td>2.735185e+05</td>\n",
       "    </tr>\n",
       "    <tr>\n",
       "      <td>Altındağ</td>\n",
       "      <td>1029</td>\n",
       "      <td>62999</td>\n",
       "      <td>2300000</td>\n",
       "      <td>3.081909e+05</td>\n",
       "    </tr>\n",
       "    <tr>\n",
       "      <td>Şereflikoçhisar</td>\n",
       "      <td>1</td>\n",
       "      <td>310000</td>\n",
       "      <td>310000</td>\n",
       "      <td>3.100000e+05</td>\n",
       "    </tr>\n",
       "    <tr>\n",
       "      <td>Pursaklar</td>\n",
       "      <td>1035</td>\n",
       "      <td>86000</td>\n",
       "      <td>975000</td>\n",
       "      <td>3.251396e+05</td>\n",
       "    </tr>\n",
       "    <tr>\n",
       "      <td>Keçiören</td>\n",
       "      <td>3419</td>\n",
       "      <td>111</td>\n",
       "      <td>1500000</td>\n",
       "      <td>3.525955e+05</td>\n",
       "    </tr>\n",
       "    <tr>\n",
       "      <td>Etimesgut</td>\n",
       "      <td>2271</td>\n",
       "      <td>142</td>\n",
       "      <td>2600000</td>\n",
       "      <td>3.917608e+05</td>\n",
       "    </tr>\n",
       "    <tr>\n",
       "      <td>Yenimahalle</td>\n",
       "      <td>1724</td>\n",
       "      <td>725</td>\n",
       "      <td>2500000</td>\n",
       "      <td>4.116738e+05</td>\n",
       "    </tr>\n",
       "    <tr>\n",
       "      <td>Çankaya</td>\n",
       "      <td>7707</td>\n",
       "      <td>600</td>\n",
       "      <td>19000000</td>\n",
       "      <td>5.513147e+05</td>\n",
       "    </tr>\n",
       "    <tr>\n",
       "      <td>Gölbaşı</td>\n",
       "      <td>289</td>\n",
       "      <td>135000</td>\n",
       "      <td>6250000</td>\n",
       "      <td>6.105173e+05</td>\n",
       "    </tr>\n",
       "    <tr>\n",
       "      <td>Çamlıdere</td>\n",
       "      <td>1</td>\n",
       "      <td>700000</td>\n",
       "      <td>700000</td>\n",
       "      <td>7.000000e+05</td>\n",
       "    </tr>\n",
       "    <tr>\n",
       "      <td>Ayaş</td>\n",
       "      <td>1</td>\n",
       "      <td>1500000</td>\n",
       "      <td>1500000</td>\n",
       "      <td>1.500000e+06</td>\n",
       "    </tr>\n",
       "  </tbody>\n",
       "</table>\n",
       "</div>"
      ],
      "text/plain": [
       "                 count      min       max          mean\n",
       "Town                                                   \n",
       "Haymana              1   101000    101000  1.010000e+05\n",
       "Nallıhan             1   120000    120000  1.200000e+05\n",
       "Akyurt              27    85000    499000  1.915370e+05\n",
       "Polatlı            204    65000    500000  2.101471e+05\n",
       "Elmadağ             10   125000    430000  2.181000e+05\n",
       "Çubuk               77    95000    535000  2.257532e+05\n",
       "Sincan             672      175    600000  2.313797e+05\n",
       "Mamak             3567      105    870000  2.412661e+05\n",
       "Kızılcahamam         5    37000    475000  2.450000e+05\n",
       "Bala                 1   265000    265000  2.650000e+05\n",
       "Kahramankazan       27   108000    383000  2.735185e+05\n",
       "Altındağ          1029    62999   2300000  3.081909e+05\n",
       "Şereflikoçhisar      1   310000    310000  3.100000e+05\n",
       "Pursaklar         1035    86000    975000  3.251396e+05\n",
       "Keçiören          3419      111   1500000  3.525955e+05\n",
       "Etimesgut         2271      142   2600000  3.917608e+05\n",
       "Yenimahalle       1724      725   2500000  4.116738e+05\n",
       "Çankaya           7707      600  19000000  5.513147e+05\n",
       "Gölbaşı            289   135000   6250000  6.105173e+05\n",
       "Çamlıdere            1   700000    700000  7.000000e+05\n",
       "Ayaş                 1  1500000   1500000  1.500000e+06"
      ]
     },
     "execution_count": 35,
     "metadata": {},
     "output_type": "execute_result"
    }
   ],
   "source": [
    "df.groupby('Town').Price.agg(['count', 'min', 'max', 'mean']).sort_values('mean')"
   ]
  },
  {
   "cell_type": "markdown",
   "metadata": {},
   "source": [
    "I need to convert 'Town' feature. I wanted to give some meaningful numeric values to this feature. So I thought I can put them in order according to their mean value. We see min, max, count, and mean values of each town."
   ]
  },
  {
   "cell_type": "code",
   "execution_count": 36,
   "metadata": {},
   "outputs": [
    {
     "data": {
      "text/plain": [
       "<matplotlib.axes._subplots.AxesSubplot at 0x7efd88d14890>"
      ]
     },
     "execution_count": 36,
     "metadata": {},
     "output_type": "execute_result"
    },
    {
     "data": {
      "image/png": "[encoded data removed]",
      "text/plain": [
       "<Figure size 432x288 with 1 Axes>"
      ]
     },
     "metadata": {
      "needs_background": "light"
     },
     "output_type": "display_data"
    }
   ],
   "source": [
    "df.groupby('Town').Price.mean().plot(kind='bar')"
   ]
  },
  {
   "cell_type": "markdown",
   "metadata": {},
   "source": [
    "Here is a nice visualization to understand the prices in each town."
   ]
  },
  {
   "cell_type": "code",
   "execution_count": 37,
   "metadata": {},
   "outputs": [
    {
     "data": {
      "text/plain": [
       "Town\n",
       "Haymana             101000\n",
       "Nallıhan            120000\n",
       "Akyurt              191537\n",
       "Polatlı             210147\n",
       "Elmadağ             218100\n",
       "Çubuk               225753\n",
       "Sincan              231379\n",
       "Mamak               241266\n",
       "Kızılcahamam        245000\n",
       "Bala                265000\n",
       "Kahramankazan       273518\n",
       "Altındağ            308190\n",
       "Şereflikoçhisar     310000\n",
       "Pursaklar           325139\n",
       "Keçiören            352595\n",
       "Etimesgut           391760\n",
       "Yenimahalle         411673\n",
       "Çankaya             551314\n",
       "Gölbaşı             610517\n",
       "Çamlıdere           700000\n",
       "Ayaş               1500000\n",
       "Name: Price, dtype: int64"
      ]
     },
     "execution_count": 37,
     "metadata": {},
     "output_type": "execute_result"
    }
   ],
   "source": [
    "df.groupby('Town').Price.mean().sort_values().astype(int)"
   ]
  },
  {
   "cell_type": "markdown",
   "metadata": {},
   "source": [
    "I sorted them for a better insight."
   ]
  },
  {
   "cell_type": "code",
   "execution_count": 38,
   "metadata": {},
   "outputs": [],
   "source": [
    "df['Town'].replace(('Gölbaşı', 'Çankaya', 'Yenimahalle', 'Etimesgut', 'Keçiören', 'Pursaklar', 'Altındağ', 'Mamak', 'Sincan', 'Polatlı', 'Kahramankazan', 'Kızılcahamam', 'Çamlıdere', 'Şereflikoçhisar', 'Çubuk', 'Elmadağ', 'Akyurt','Nallıhan', 'Akyurt', 'Haymana', 'Ayaş', 'Bala'), (10,9,8,7,6,5,4,3,2,1,1,1,1,1,1,1,1,1,1,1,1,1), inplace=True)"
   ]
  },
  {
   "cell_type": "markdown",
   "metadata": {},
   "source": [
    "I replaced string values with numeric ones according to the sorted list above. I ended up using a tree based model and this order didnt make much sense for this reason but i decided to leave them as they are."
   ]
  },
  {
   "cell_type": "code",
   "execution_count": 39,
   "metadata": {},
   "outputs": [
    {
     "data": {
      "text/plain": [
       "9     7707\n",
       "3     3567\n",
       "6     3419\n",
       "7     2271\n",
       "8     1724\n",
       "5     1035\n",
       "4     1029\n",
       "2      672\n",
       "1      356\n",
       "10     289\n",
       "Name: Town, dtype: int64"
      ]
     },
     "execution_count": 39,
     "metadata": {},
     "output_type": "execute_result"
    }
   ],
   "source": [
    "df['Town'].value_counts()"
   ]
  },
  {
   "cell_type": "code",
   "execution_count": 40,
   "metadata": {},
   "outputs": [
    {
     "data": {
      "text/plain": [
       "<matplotlib.axes._subplots.AxesSubplot at 0x7efd898b3910>"
      ]
     },
     "execution_count": 40,
     "metadata": {},
     "output_type": "execute_result"
    },
    {
     "data": {
      "image/png": "[encoded data removed]",
      "text/plain": [
       "<Figure size 432x288 with 1 Axes>"
      ]
     },
     "metadata": {
      "needs_background": "light"
     },
     "output_type": "display_data"
    }
   ],
   "source": [
    "df.groupby('Town').Price.mean().plot(kind='bar')"
   ]
  },
  {
   "cell_type": "markdown",
   "metadata": {},
   "source": [
    "Visualization after numeration."
   ]
  },
  {
   "cell_type": "code",
   "execution_count": 41,
   "metadata": {},
   "outputs": [
    {
     "data": {
      "text/plain": [
       "Güney,Doğu               4009\n",
       "Güney,Batı               3042\n",
       "Güney,Doğu,Batı          2358\n",
       "Güney                    1973\n",
       "Kuzey,Güney,Doğu,Batı    1309\n",
       "Doğu                     1095\n",
       "Kuzey,Batı               1039\n",
       "Kuzey,Doğu                975\n",
       "Batı                      960\n",
       "Doğu,Batı                 619\n",
       "Kuzey,Doğu,Batı           594\n",
       "Kuzey,Güney,Doğu          457\n",
       "Kuzey,Güney,Batı          341\n",
       "Kuzey,Güney               213\n",
       "Kuzey                     135\n",
       "Name: Frontage, dtype: int64"
      ]
     },
     "execution_count": 41,
     "metadata": {},
     "output_type": "execute_result"
    }
   ],
   "source": [
    "df['Frontage'].value_counts()"
   ]
  },
  {
   "cell_type": "code",
   "execution_count": 42,
   "metadata": {},
   "outputs": [],
   "source": [
    "df['Frontage'] = df['Frontage'].str.contains('Kuzey', na= False, regex = False)"
   ]
  },
  {
   "cell_type": "code",
   "execution_count": 43,
   "metadata": {},
   "outputs": [
    {
     "data": {
      "text/plain": [
       "0        0\n",
       "1        1\n",
       "2        0\n",
       "3        0\n",
       "4        0\n",
       "        ..\n",
       "22952    0\n",
       "22953    0\n",
       "22954    0\n",
       "22955    0\n",
       "22956    0\n",
       "Name: Frontage, Length: 22069, dtype: int64"
      ]
     },
     "execution_count": 43,
     "metadata": {},
     "output_type": "execute_result"
    }
   ],
   "source": [
    "df['Frontage'].astype(int)"
   ]
  },
  {
   "cell_type": "code",
   "execution_count": 44,
   "metadata": {},
   "outputs": [],
   "source": [
    "df['Frontage'] = df['Frontage'].replace({0:1, 1:0})"
   ]
  },
  {
   "cell_type": "markdown",
   "metadata": {},
   "source": [
    "I thought 1 should be assigned to the better frontage option, so that's why I swapped them."
   ]
  },
  {
   "cell_type": "code",
   "execution_count": 45,
   "metadata": {},
   "outputs": [
    {
     "data": {
      "text/plain": [
       "1    17006\n",
       "0     5063\n",
       "Name: Frontage, dtype: int64"
      ]
     },
     "execution_count": 45,
     "metadata": {},
     "output_type": "execute_result"
    }
   ],
   "source": [
    "df['Frontage'].value_counts()"
   ]
  },
  {
   "cell_type": "code",
   "execution_count": 46,
   "metadata": {},
   "outputs": [
    {
     "data": {
      "text/plain": [
       "Age               0\n",
       "Area              0\n",
       "CreditAvlb        0\n",
       "Firsthand         0\n",
       "FloorCount        0\n",
       "FloorNumber       0\n",
       "Frontage          0\n",
       "Fuel              0\n",
       "Furniture         0\n",
       "MaintenanceFee    0\n",
       "Price             0\n",
       "Room              0\n",
       "Town              0\n",
       "Heating_num       0\n",
       "dtype: int64"
      ]
     },
     "execution_count": 46,
     "metadata": {},
     "output_type": "execute_result"
    }
   ],
   "source": [
    "df.isnull().sum()"
   ]
  },
  {
   "cell_type": "markdown",
   "metadata": {},
   "source": [
    "No null values left."
   ]
  },
  {
   "cell_type": "code",
   "execution_count": 47,
   "metadata": {
    "scrolled": true
   },
   "outputs": [
    {
     "data": {
      "text/plain": [
       "1                  4706\n",
       "3                  3870\n",
       "2                  3557\n",
       "Yüksek Giriş       1786\n",
       "4                  1662\n",
       "Giriş Katı         1177\n",
       "5                   801\n",
       "Bahçe Katı          562\n",
       "6                   515\n",
       "7                   391\n",
       "8                   376\n",
       "9                   332\n",
       "En Üst Kat          303\n",
       "10                  272\n",
       "12                  235\n",
       "11                  220\n",
       "21                  180\n",
       "Teras Katı          177\n",
       "13                  143\n",
       "Ara Kat             131\n",
       "14                  130\n",
       "Zemin               130\n",
       "15                   89\n",
       "Çatı Katı            54\n",
       "17                   52\n",
       "16                   49\n",
       "20                   39\n",
       "Villa Katı           37\n",
       "18                   34\n",
       "19                   25\n",
       "Yarı Bodrum          14\n",
       "Bodrum ve Zemin      11\n",
       "Bodrum                6\n",
       "Asma Kat              3\n",
       "Name: FloorNumber, dtype: int64"
      ]
     },
     "execution_count": 47,
     "metadata": {},
     "output_type": "execute_result"
    }
   ],
   "source": [
    "df['FloorNumber'].value_counts()"
   ]
  },
  {
   "cell_type": "code",
   "execution_count": 48,
   "metadata": {},
   "outputs": [],
   "source": [
    "df['FloorNumber'].replace(('Yüksek Giriş', 'Giriş Katı', 'Bahçe Katı', 'En Üst Kat', 'Teras Katı', 'Ara Kat', 'Zemin', 'Çatı Katı', 'Villa Katı', 'Yarı Bodrum', 'Bodrum ve Zemin', 'Bodrum', 'Asma Kat'), (0.5, 0, 0.25, np.nan, np.nan, 2, 0, np.nan, 0.75, -0.50, -0.50, -1, 1.5 ), inplace=True)"
   ]
  },
  {
   "cell_type": "markdown",
   "metadata": {},
   "source": [
    "There are some rows named \"top floor\" I decided to assign the value of the FloorCount for that. Because basically they mean same thing and we prefer numeric ones. First, I assigned null values for this kind of rows to make replacement process easier."
   ]
  },
  {
   "cell_type": "code",
   "execution_count": 49,
   "metadata": {},
   "outputs": [
    {
     "data": {
      "text/plain": [
       "Age                 0\n",
       "Area                0\n",
       "CreditAvlb          0\n",
       "Firsthand           0\n",
       "FloorCount          0\n",
       "FloorNumber       534\n",
       "Frontage            0\n",
       "Fuel                0\n",
       "Furniture           0\n",
       "MaintenanceFee      0\n",
       "Price               0\n",
       "Room                0\n",
       "Town                0\n",
       "Heating_num         0\n",
       "dtype: int64"
      ]
     },
     "execution_count": 49,
     "metadata": {},
     "output_type": "execute_result"
    }
   ],
   "source": [
    "df.isnull().sum()"
   ]
  },
  {
   "cell_type": "code",
   "execution_count": 50,
   "metadata": {},
   "outputs": [],
   "source": [
    "df.FloorNumber = np.where(df.FloorNumber.isnull(), df.FloorCount, df.FloorNumber)"
   ]
  },
  {
   "cell_type": "markdown",
   "metadata": {},
   "source": [
    "I replaced null values with the FloorCount rows which have same index."
   ]
  },
  {
   "cell_type": "code",
   "execution_count": 51,
   "metadata": {},
   "outputs": [],
   "source": [
    "df['FloorNumber'] = df['FloorNumber'].astype(float)"
   ]
  },
  {
   "cell_type": "code",
   "execution_count": 52,
   "metadata": {
    "scrolled": true
   },
   "outputs": [
    {
     "data": {
      "text/plain": [
       " 1.00     4706\n",
       " 3.00     4084\n",
       " 2.00     3708\n",
       " 4.00     1821\n",
       " 0.50     1786\n",
       " 0.00     1307\n",
       " 5.00      864\n",
       " 0.25      562\n",
       " 6.00      524\n",
       " 7.00      402\n",
       " 8.00      384\n",
       " 9.00      338\n",
       " 10.00     282\n",
       " 12.00     249\n",
       " 11.00     222\n",
       " 21.00     181\n",
       " 13.00     149\n",
       " 14.00     132\n",
       " 15.00      92\n",
       " 17.00      54\n",
       " 16.00      49\n",
       " 20.00      41\n",
       " 0.75       37\n",
       " 18.00      34\n",
       "-0.50       25\n",
       " 19.00      25\n",
       "-1.00        6\n",
       " 1.50        3\n",
       " 24.00       2\n",
       "Name: FloorNumber, dtype: int64"
      ]
     },
     "execution_count": 52,
     "metadata": {},
     "output_type": "execute_result"
    }
   ],
   "source": [
    "df['FloorNumber'].value_counts()"
   ]
  },
  {
   "cell_type": "code",
   "execution_count": 53,
   "metadata": {},
   "outputs": [
    {
     "name": "stdout",
     "output_type": "stream",
     "text": [
      "<class 'pandas.core.frame.DataFrame'>\n",
      "Int64Index: 22069 entries, 0 to 22956\n",
      "Data columns (total 14 columns):\n",
      "Age               22069 non-null int64\n",
      "Area              22069 non-null int64\n",
      "CreditAvlb        22069 non-null int64\n",
      "Firsthand         22069 non-null int64\n",
      "FloorCount        22069 non-null int64\n",
      "FloorNumber       22069 non-null float64\n",
      "Frontage          22069 non-null int64\n",
      "Fuel              22069 non-null int64\n",
      "Furniture         22069 non-null int64\n",
      "MaintenanceFee    22069 non-null int64\n",
      "Price             22069 non-null int64\n",
      "Room              22069 non-null int64\n",
      "Town              22069 non-null int64\n",
      "Heating_num       22069 non-null int64\n",
      "dtypes: float64(1), int64(13)\n",
      "memory usage: 3.2 MB\n"
     ]
    }
   ],
   "source": [
    "df.info()"
   ]
  },
  {
   "cell_type": "markdown",
   "metadata": {},
   "source": [
    "We see that there is no null value left and all values are converted to numeric."
   ]
  },
  {
   "cell_type": "code",
   "execution_count": 54,
   "metadata": {},
   "outputs": [],
   "source": [
    "indexAge = df [ df.Age > 100 ].index\n",
    "df.drop(indexAge , inplace=True)"
   ]
  },
  {
   "cell_type": "code",
   "execution_count": 55,
   "metadata": {},
   "outputs": [],
   "source": [
    "indexNames = df [ df.Room > 10 ].index\n",
    "df.drop(indexNames , inplace=True)"
   ]
  },
  {
   "cell_type": "code",
   "execution_count": 56,
   "metadata": {},
   "outputs": [],
   "source": [
    "indexPrices = (df[(df['Price'] <40000 ) | (df['Price'] > 10000000)]).index\n",
    "df.drop(indexPrices, inplace = True)"
   ]
  },
  {
   "cell_type": "code",
   "execution_count": 57,
   "metadata": {},
   "outputs": [],
   "source": [
    "indexFloorCount = df [ df.FloorCount > 50 ].index\n",
    "df.drop(indexFloorCount, inplace = True)"
   ]
  },
  {
   "cell_type": "code",
   "execution_count": 58,
   "metadata": {},
   "outputs": [],
   "source": [
    "indexMaintenanceFee = df [ df.MaintenanceFee > 2500 ].index\n",
    "df.drop(indexMaintenanceFee, inplace = True)"
   ]
  },
  {
   "cell_type": "code",
   "execution_count": 59,
   "metadata": {},
   "outputs": [],
   "source": [
    "indexArea = (df[(df['Area'] > 750 ) | (df['Area'] < 10)]).index\n",
    "df.drop(indexArea, inplace = True)"
   ]
  },
  {
   "cell_type": "markdown",
   "metadata": {},
   "source": [
    "I have done some data cleansing further. I dropped some rows which don't represent real world use cases. They seem like to be entered mistakenly(For example, in terms of house prices, 3 zeros are missing in the end or stuff like this) They can be corrected as well but I couldn't make sure and thought it is best to drop them."
   ]
  },
  {
   "cell_type": "code",
   "execution_count": 60,
   "metadata": {
    "scrolled": false
   },
   "outputs": [
    {
     "data": {
      "text/html": [
       "<div>\n",
       "<style scoped>\n",
       "    .dataframe tbody tr th:only-of-type {\n",
       "        vertical-align: middle;\n",
       "    }\n",
       "\n",
       "    .dataframe tbody tr th {\n",
       "        vertical-align: top;\n",
       "    }\n",
       "\n",
       "    .dataframe thead th {\n",
       "        text-align: right;\n",
       "    }\n",
       "</style>\n",
       "<table border=\"1\" class=\"dataframe\">\n",
       "  <thead>\n",
       "    <tr style=\"text-align: right;\">\n",
       "      <th></th>\n",
       "      <th>Age</th>\n",
       "      <th>Area</th>\n",
       "      <th>CreditAvlb</th>\n",
       "      <th>Firsthand</th>\n",
       "      <th>FloorCount</th>\n",
       "      <th>FloorNumber</th>\n",
       "      <th>Frontage</th>\n",
       "      <th>Fuel</th>\n",
       "      <th>Furniture</th>\n",
       "      <th>MaintenanceFee</th>\n",
       "      <th>Price</th>\n",
       "      <th>Room</th>\n",
       "      <th>Town</th>\n",
       "      <th>Heating_num</th>\n",
       "    </tr>\n",
       "  </thead>\n",
       "  <tbody>\n",
       "    <tr>\n",
       "      <td>0</td>\n",
       "      <td>0</td>\n",
       "      <td>240</td>\n",
       "      <td>2</td>\n",
       "      <td>2</td>\n",
       "      <td>15</td>\n",
       "      <td>15.0</td>\n",
       "      <td>1</td>\n",
       "      <td>3</td>\n",
       "      <td>0</td>\n",
       "      <td>250</td>\n",
       "      <td>1200000</td>\n",
       "      <td>5</td>\n",
       "      <td>6</td>\n",
       "      <td>7</td>\n",
       "    </tr>\n",
       "    <tr>\n",
       "      <td>1</td>\n",
       "      <td>2</td>\n",
       "      <td>190</td>\n",
       "      <td>2</td>\n",
       "      <td>1</td>\n",
       "      <td>11</td>\n",
       "      <td>9.0</td>\n",
       "      <td>0</td>\n",
       "      <td>3</td>\n",
       "      <td>0</td>\n",
       "      <td>0</td>\n",
       "      <td>799000</td>\n",
       "      <td>5</td>\n",
       "      <td>7</td>\n",
       "      <td>7</td>\n",
       "    </tr>\n",
       "    <tr>\n",
       "      <td>2</td>\n",
       "      <td>3</td>\n",
       "      <td>300</td>\n",
       "      <td>2</td>\n",
       "      <td>1</td>\n",
       "      <td>3</td>\n",
       "      <td>3.0</td>\n",
       "      <td>1</td>\n",
       "      <td>3</td>\n",
       "      <td>0</td>\n",
       "      <td>60</td>\n",
       "      <td>448000</td>\n",
       "      <td>5</td>\n",
       "      <td>7</td>\n",
       "      <td>5</td>\n",
       "    </tr>\n",
       "    <tr>\n",
       "      <td>3</td>\n",
       "      <td>0</td>\n",
       "      <td>412</td>\n",
       "      <td>2</td>\n",
       "      <td>1</td>\n",
       "      <td>14</td>\n",
       "      <td>13.0</td>\n",
       "      <td>1</td>\n",
       "      <td>3</td>\n",
       "      <td>0</td>\n",
       "      <td>0</td>\n",
       "      <td>975000</td>\n",
       "      <td>6</td>\n",
       "      <td>5</td>\n",
       "      <td>5</td>\n",
       "    </tr>\n",
       "    <tr>\n",
       "      <td>4</td>\n",
       "      <td>0</td>\n",
       "      <td>206</td>\n",
       "      <td>2</td>\n",
       "      <td>1</td>\n",
       "      <td>14</td>\n",
       "      <td>10.0</td>\n",
       "      <td>1</td>\n",
       "      <td>3</td>\n",
       "      <td>0</td>\n",
       "      <td>0</td>\n",
       "      <td>590000</td>\n",
       "      <td>5</td>\n",
       "      <td>5</td>\n",
       "      <td>5</td>\n",
       "    </tr>\n",
       "    <tr>\n",
       "      <td>5</td>\n",
       "      <td>18</td>\n",
       "      <td>245</td>\n",
       "      <td>2</td>\n",
       "      <td>1</td>\n",
       "      <td>3</td>\n",
       "      <td>3.0</td>\n",
       "      <td>1</td>\n",
       "      <td>3</td>\n",
       "      <td>0</td>\n",
       "      <td>50</td>\n",
       "      <td>415000</td>\n",
       "      <td>5</td>\n",
       "      <td>9</td>\n",
       "      <td>5</td>\n",
       "    </tr>\n",
       "    <tr>\n",
       "      <td>6</td>\n",
       "      <td>35</td>\n",
       "      <td>185</td>\n",
       "      <td>2</td>\n",
       "      <td>1</td>\n",
       "      <td>3</td>\n",
       "      <td>3.0</td>\n",
       "      <td>1</td>\n",
       "      <td>3</td>\n",
       "      <td>0</td>\n",
       "      <td>70</td>\n",
       "      <td>525000</td>\n",
       "      <td>5</td>\n",
       "      <td>9</td>\n",
       "      <td>5</td>\n",
       "    </tr>\n",
       "  </tbody>\n",
       "</table>\n",
       "</div>"
      ],
      "text/plain": [
       "   Age  Area  CreditAvlb  Firsthand  FloorCount  FloorNumber  Frontage  Fuel  \\\n",
       "0    0   240           2          2          15         15.0         1     3   \n",
       "1    2   190           2          1          11          9.0         0     3   \n",
       "2    3   300           2          1           3          3.0         1     3   \n",
       "3    0   412           2          1          14         13.0         1     3   \n",
       "4    0   206           2          1          14         10.0         1     3   \n",
       "5   18   245           2          1           3          3.0         1     3   \n",
       "6   35   185           2          1           3          3.0         1     3   \n",
       "\n",
       "   Furniture  MaintenanceFee    Price  Room  Town  Heating_num  \n",
       "0          0             250  1200000     5     6            7  \n",
       "1          0               0   799000     5     7            7  \n",
       "2          0              60   448000     5     7            5  \n",
       "3          0               0   975000     6     5            5  \n",
       "4          0               0   590000     5     5            5  \n",
       "5          0              50   415000     5     9            5  \n",
       "6          0              70   525000     5     9            5  "
      ]
     },
     "execution_count": 60,
     "metadata": {},
     "output_type": "execute_result"
    }
   ],
   "source": [
    "df.head(7)"
   ]
  },
  {
   "cell_type": "markdown",
   "metadata": {},
   "source": [
    "Taking another look at the dataset after converting all features to integer to see if everthing is allright."
   ]
  },
  {
   "cell_type": "code",
   "execution_count": 61,
   "metadata": {
    "scrolled": true
   },
   "outputs": [
    {
     "data": {
      "text/plain": [
       "<seaborn.axisgrid.JointGrid at 0x7efd88d32f10>"
      ]
     },
     "execution_count": 61,
     "metadata": {},
     "output_type": "execute_result"
    },
    {
     "data": {
      "image/png": "[encoded data removed]",
      "text/plain": [
       "<Figure size 432x432 with 3 Axes>"
      ]
     },
     "metadata": {
      "needs_background": "light"
     },
     "output_type": "display_data"
    }
   ],
   "source": [
    "sns.jointplot(x='Area', y='Price',  data=df )"
   ]
  },
  {
   "cell_type": "markdown",
   "metadata": {},
   "source": [
    "This plot shows us the distribution of Area and Price columns. Seaborn library is used to visualize. This plot was actually used many times up to here for outlier detection. But I only keep one of them for the sake of simplicity."
   ]
  },
  {
   "cell_type": "code",
   "execution_count": 62,
   "metadata": {},
   "outputs": [],
   "source": [
    "#df.to_csv('AnkaraHousesDatasetProduction.csv', index=False)\n",
    "#I used this opeartion only once."
   ]
  },
  {
   "cell_type": "code",
   "execution_count": 63,
   "metadata": {},
   "outputs": [],
   "source": [
    "y=df.loc[:, 'Price']\n",
    "X=df.loc[:, df.columns != 'Price']"
   ]
  },
  {
   "cell_type": "markdown",
   "metadata": {},
   "source": [
    "Target variable and predictors are assigned."
   ]
  },
  {
   "cell_type": "code",
   "execution_count": 64,
   "metadata": {},
   "outputs": [],
   "source": [
    "X_train, X_test, y_train, y_test= train_test_split(X, y, test_size=0.2, random_state=42)"
   ]
  },
  {
   "cell_type": "markdown",
   "metadata": {},
   "source": [
    "Train and test set are splitted. 80% for training, 20% for validation. Random_state is assigned to get the same result if model is reexecuted later."
   ]
  },
  {
   "cell_type": "code",
   "execution_count": 65,
   "metadata": {},
   "outputs": [],
   "source": [
    "param_grid={\"n_estimators\":[100, 250],\n",
    "\"max_depth\": [8,12,14],\n",
    "\"min_samples_leaf\": [2,4] }"
   ]
  },
  {
   "cell_type": "markdown",
   "metadata": {},
   "source": [
    "Hyper parameters are assisned as a list. The range for each parameter consists of 2  or 3 values in order to save time and computational power."
   ]
  },
  {
   "cell_type": "code",
   "execution_count": 66,
   "metadata": {},
   "outputs": [],
   "source": [
    "RFReg=RandomForestRegressor(n_jobs=-1, random_state=42)"
   ]
  },
  {
   "cell_type": "markdown",
   "metadata": {},
   "source": [
    "I tried many different models and opted for Random Forest Regressor in the end as it produced the best accuracy score among them."
   ]
  },
  {
   "cell_type": "code",
   "execution_count": 67,
   "metadata": {},
   "outputs": [],
   "source": [
    "RFReg_cv= GridSearchCV(RFReg, param_grid, cv=10)"
   ]
  },
  {
   "cell_type": "markdown",
   "metadata": {},
   "source": [
    "I used grid search to optimize hyper parameters. Tried different cross validation values(5 and 10) it didn't make any difference."
   ]
  },
  {
   "cell_type": "code",
   "execution_count": 68,
   "metadata": {},
   "outputs": [],
   "source": [
    "RfReg_cv_result = RFReg_cv.fit(X_train, y_train)"
   ]
  },
  {
   "cell_type": "code",
   "execution_count": 69,
   "metadata": {},
   "outputs": [],
   "source": [
    "y_pred=RfReg_cv_result.predict(X_test)"
   ]
  },
  {
   "cell_type": "code",
   "execution_count": 70,
   "metadata": {},
   "outputs": [],
   "source": [
    "rmse=mean_squared_error(y_test, y_pred)**0.5"
   ]
  },
  {
   "cell_type": "code",
   "execution_count": 71,
   "metadata": {},
   "outputs": [
    {
     "data": {
      "text/plain": [
       "126156.01279200938"
      ]
     },
     "execution_count": 71,
     "metadata": {},
     "output_type": "execute_result"
    }
   ],
   "source": [
    "rmse"
   ]
  },
  {
   "cell_type": "code",
   "execution_count": 72,
   "metadata": {},
   "outputs": [
    {
     "data": {
      "text/plain": [
       "0.817862390429281"
      ]
     },
     "execution_count": 72,
     "metadata": {},
     "output_type": "execute_result"
    }
   ],
   "source": [
    "RFReg_cv.score(X_test, y_test) "
   ]
  },
  {
   "cell_type": "code",
   "execution_count": 73,
   "metadata": {},
   "outputs": [
    {
     "data": {
      "text/plain": [
       "0.9213205567312204"
      ]
     },
     "execution_count": 73,
     "metadata": {},
     "output_type": "execute_result"
    }
   ],
   "source": [
    "RFReg_cv.score(X_train, y_train) "
   ]
  },
  {
   "cell_type": "code",
   "execution_count": 74,
   "metadata": {},
   "outputs": [
    {
     "data": {
      "text/plain": [
       "{'max_depth': 14, 'min_samples_leaf': 2, 'n_estimators': 250}"
      ]
     },
     "execution_count": 74,
     "metadata": {},
     "output_type": "execute_result"
    }
   ],
   "source": [
    "RfReg_cv_result.best_params_"
   ]
  }
 ],
 "metadata": {
  "kernelspec": {
   "display_name": "Python 3",
   "language": "python",
   "name": "python3"
  },
  "language_info": {
   "codemirror_mode": {
    "name": "ipython",
    "version": 3
   },
   "file_extension": ".py",
   "mimetype": "text/x-python",
   "name": "python",
   "nbconvert_exporter": "python",
   "pygments_lexer": "ipython3",
   "version": "3.7.4"
  }
 },
 "nbformat": 4,
 "nbformat_minor": 2
}
